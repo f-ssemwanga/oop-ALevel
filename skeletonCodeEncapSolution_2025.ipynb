{
 "cells": [
  {
   "cell_type": "code",
   "execution_count": null,
   "id": "1c14a4e7",
   "metadata": {
    "vscode": {
     "languageId": "plaintext"
    }
   },
   "outputs": [],
   "source": [
    "class Customer:\n",
    "    '''\n",
    "- Customers are checked in an out of rooms\n",
    "- customers leave feedback depending on how their stay was\n",
    "- i.e. they are successfully checked in, room is clean\n",
    "- Customers are happy if room is clearn\n",
    "- Customers are unhappy if room is overbook or unclean'''\n",
    "    def __init__(self, bookedRoom, name):\n",
    "        '''class constructor'''\n",
    "        self.__bookedRoom = bookedRoom\n",
    "        self.__name = name\n",
    "        self.__feedback =0\n",
    "        self.__rating = 0 #added a rating\n",
    "    \n",
    "    '''Methods'''   \n",
    "    def incrementRating (self, increment):\n",
    "        '''setter for incrementing rating  / hotel experience'''\n",
    "        self.__rating +=increment\n",
    "        \n",
    "    def getName(self):\n",
    "        '''Returns the customer's name'''\n",
    "        return self.__name\n",
    "    def getRoom(self):\n",
    "        '''Returns the booked room'''\n",
    "        return self.__bookedRoom\n",
    "    def getRating(self)\n",
    "        '''Returns the rating'''\n",
    "        return self.__rating"
   ]
  }
 ],
 "metadata": {
  "language_info": {
   "name": "python"
  }
 },
 "nbformat": 4,
 "nbformat_minor": 5
}
